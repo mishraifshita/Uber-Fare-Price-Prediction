{
 "cells": [
  {
   "cell_type": "code",
   "execution_count": 1,
   "metadata": {},
   "outputs": [],
   "source": [
    "import pandas as pd\n",
    "import numpy as np\n",
    "import seaborn as sns\n",
    "import matplotlib.pyplot as plt\n",
    "%matplotlib inline\n",
    "from scipy.stats import chi2_contingency\n",
    "import seaborn as sns\n",
    "from sklearn.neighbors import KNeighborsClassifier\n",
    "from random import randrange, uniform"
   ]
  },
  {
   "cell_type": "code",
   "execution_count": 2,
   "metadata": {},
   "outputs": [
    {
     "data": {
      "text/html": [
       "<div>\n",
       "<style scoped>\n",
       "    .dataframe tbody tr th:only-of-type {\n",
       "        vertical-align: middle;\n",
       "    }\n",
       "\n",
       "    .dataframe tbody tr th {\n",
       "        vertical-align: top;\n",
       "    }\n",
       "\n",
       "    .dataframe thead th {\n",
       "        text-align: right;\n",
       "    }\n",
       "</style>\n",
       "<table border=\"1\" class=\"dataframe\">\n",
       "  <thead>\n",
       "    <tr style=\"text-align: right;\">\n",
       "      <th></th>\n",
       "      <th>Unnamed: 0</th>\n",
       "      <th>key</th>\n",
       "      <th>fare_amount</th>\n",
       "      <th>pickup_datetime</th>\n",
       "      <th>pickup_longitude</th>\n",
       "      <th>pickup_latitude</th>\n",
       "      <th>dropoff_longitude</th>\n",
       "      <th>dropoff_latitude</th>\n",
       "      <th>passenger_count</th>\n",
       "    </tr>\n",
       "  </thead>\n",
       "  <tbody>\n",
       "    <tr>\n",
       "      <th>0</th>\n",
       "      <td>24238194</td>\n",
       "      <td>2015-05-07 19:52:06.0000003</td>\n",
       "      <td>7.5</td>\n",
       "      <td>2015-05-07 19:52:06 UTC</td>\n",
       "      <td>-73.999817</td>\n",
       "      <td>40.738354</td>\n",
       "      <td>-73.999512</td>\n",
       "      <td>40.723217</td>\n",
       "      <td>1</td>\n",
       "    </tr>\n",
       "  </tbody>\n",
       "</table>\n",
       "</div>"
      ],
      "text/plain": [
       "   Unnamed: 0                          key  fare_amount  \\\n",
       "0    24238194  2015-05-07 19:52:06.0000003          7.5   \n",
       "\n",
       "           pickup_datetime  pickup_longitude  pickup_latitude  \\\n",
       "0  2015-05-07 19:52:06 UTC        -73.999817        40.738354   \n",
       "\n",
       "   dropoff_longitude  dropoff_latitude  passenger_count  \n",
       "0         -73.999512         40.723217                1  "
      ]
     },
     "execution_count": 2,
     "metadata": {},
     "output_type": "execute_result"
    }
   ],
   "source": [
    "Train_Data = pd.read_csv(r'trainn.csv')\n",
    "Train_Data.head(1)"
   ]
  },
  {
   "cell_type": "code",
   "execution_count": 3,
   "metadata": {},
   "outputs": [],
   "source": [
    "Train_Data.drop(labels='Unnamed: 0',axis=1,inplace=True)"
   ]
  },
  {
   "cell_type": "code",
   "execution_count": 4,
   "metadata": {},
   "outputs": [],
   "source": [
    "Train_Data.drop(labels='key',axis=1,inplace=True)"
   ]
  },
  {
   "cell_type": "code",
   "execution_count": 5,
   "metadata": {},
   "outputs": [
    {
     "data": {
      "text/plain": [
       "(200000, 7)"
      ]
     },
     "execution_count": 5,
     "metadata": {},
     "output_type": "execute_result"
    }
   ],
   "source": [
    "Train_Data.shape"
   ]
  },
  {
   "cell_type": "code",
   "execution_count": 6,
   "metadata": {},
   "outputs": [
    {
     "data": {
      "text/html": [
       "<div>\n",
       "<style scoped>\n",
       "    .dataframe tbody tr th:only-of-type {\n",
       "        vertical-align: middle;\n",
       "    }\n",
       "\n",
       "    .dataframe tbody tr th {\n",
       "        vertical-align: top;\n",
       "    }\n",
       "\n",
       "    .dataframe thead th {\n",
       "        text-align: right;\n",
       "    }\n",
       "</style>\n",
       "<table border=\"1\" class=\"dataframe\">\n",
       "  <thead>\n",
       "    <tr style=\"text-align: right;\">\n",
       "      <th></th>\n",
       "      <th>Unnamed: 0.2</th>\n",
       "      <th>Unnamed: 0</th>\n",
       "      <th>Unnamed: 0.1</th>\n",
       "      <th>key</th>\n",
       "      <th>pickup_datetime</th>\n",
       "      <th>pickup_longitude</th>\n",
       "      <th>pickup_latitude</th>\n",
       "      <th>dropoff_longitude</th>\n",
       "      <th>dropoff_latitude</th>\n",
       "      <th>passenger_count</th>\n",
       "    </tr>\n",
       "  </thead>\n",
       "  <tbody>\n",
       "    <tr>\n",
       "      <th>0</th>\n",
       "      <td>0</td>\n",
       "      <td>37338</td>\n",
       "      <td>31401407</td>\n",
       "      <td>2011-02-10 19:06:00.000000169</td>\n",
       "      <td>2011-02-10 19:06:00 UTC</td>\n",
       "      <td>-73.951662</td>\n",
       "      <td>40.79071</td>\n",
       "      <td>-73.94757</td>\n",
       "      <td>40.75622</td>\n",
       "      <td>1</td>\n",
       "    </tr>\n",
       "  </tbody>\n",
       "</table>\n",
       "</div>"
      ],
      "text/plain": [
       "   Unnamed: 0.2  Unnamed: 0  Unnamed: 0.1                            key  \\\n",
       "0             0       37338      31401407  2011-02-10 19:06:00.000000169   \n",
       "\n",
       "           pickup_datetime  pickup_longitude  pickup_latitude  \\\n",
       "0  2011-02-10 19:06:00 UTC        -73.951662         40.79071   \n",
       "\n",
       "   dropoff_longitude  dropoff_latitude  passenger_count  \n",
       "0          -73.94757          40.75622                1  "
      ]
     },
     "execution_count": 6,
     "metadata": {},
     "output_type": "execute_result"
    }
   ],
   "source": [
    "test = pd.read_csv(r'testt.csv')\n",
    "test.head(1)"
   ]
  },
  {
   "cell_type": "code",
   "execution_count": 7,
   "metadata": {},
   "outputs": [
    {
     "data": {
      "text/plain": [
       "((50000, 10), (200000, 7))"
      ]
     },
     "execution_count": 7,
     "metadata": {},
     "output_type": "execute_result"
    }
   ],
   "source": [
    "test.shape,Train_Data.shape"
   ]
  },
  {
   "cell_type": "code",
   "execution_count": 8,
   "metadata": {},
   "outputs": [
    {
     "data": {
      "text/html": [
       "<div>\n",
       "<style scoped>\n",
       "    .dataframe tbody tr th:only-of-type {\n",
       "        vertical-align: middle;\n",
       "    }\n",
       "\n",
       "    .dataframe tbody tr th {\n",
       "        vertical-align: top;\n",
       "    }\n",
       "\n",
       "    .dataframe thead th {\n",
       "        text-align: right;\n",
       "    }\n",
       "</style>\n",
       "<table border=\"1\" class=\"dataframe\">\n",
       "  <thead>\n",
       "    <tr style=\"text-align: right;\">\n",
       "      <th></th>\n",
       "      <th>fare_amount</th>\n",
       "      <th>pickup_datetime</th>\n",
       "      <th>pickup_longitude</th>\n",
       "      <th>pickup_latitude</th>\n",
       "      <th>dropoff_longitude</th>\n",
       "      <th>dropoff_latitude</th>\n",
       "      <th>passenger_count</th>\n",
       "    </tr>\n",
       "  </thead>\n",
       "  <tbody>\n",
       "    <tr>\n",
       "      <th>0</th>\n",
       "      <td>7.5</td>\n",
       "      <td>2015-05-07 19:52:06 UTC</td>\n",
       "      <td>-73.999817</td>\n",
       "      <td>40.738354</td>\n",
       "      <td>-73.999512</td>\n",
       "      <td>40.723217</td>\n",
       "      <td>1</td>\n",
       "    </tr>\n",
       "    <tr>\n",
       "      <th>1</th>\n",
       "      <td>7.7</td>\n",
       "      <td>2009-07-17 20:04:56 UTC</td>\n",
       "      <td>-73.994355</td>\n",
       "      <td>40.728225</td>\n",
       "      <td>-73.994710</td>\n",
       "      <td>40.750325</td>\n",
       "      <td>1</td>\n",
       "    </tr>\n",
       "    <tr>\n",
       "      <th>2</th>\n",
       "      <td>12.9</td>\n",
       "      <td>2009-08-24 21:45:00 UTC</td>\n",
       "      <td>-74.005043</td>\n",
       "      <td>40.740770</td>\n",
       "      <td>-73.962565</td>\n",
       "      <td>40.772647</td>\n",
       "      <td>1</td>\n",
       "    </tr>\n",
       "    <tr>\n",
       "      <th>3</th>\n",
       "      <td>5.3</td>\n",
       "      <td>2009-06-26 08:22:21 UTC</td>\n",
       "      <td>-73.976124</td>\n",
       "      <td>40.790844</td>\n",
       "      <td>-73.965316</td>\n",
       "      <td>40.803349</td>\n",
       "      <td>3</td>\n",
       "    </tr>\n",
       "    <tr>\n",
       "      <th>4</th>\n",
       "      <td>16.0</td>\n",
       "      <td>2014-08-28 17:47:00 UTC</td>\n",
       "      <td>-73.925023</td>\n",
       "      <td>40.744085</td>\n",
       "      <td>-73.973082</td>\n",
       "      <td>40.761247</td>\n",
       "      <td>5</td>\n",
       "    </tr>\n",
       "  </tbody>\n",
       "</table>\n",
       "</div>"
      ],
      "text/plain": [
       "   fare_amount          pickup_datetime  pickup_longitude  pickup_latitude  \\\n",
       "0          7.5  2015-05-07 19:52:06 UTC        -73.999817        40.738354   \n",
       "1          7.7  2009-07-17 20:04:56 UTC        -73.994355        40.728225   \n",
       "2         12.9  2009-08-24 21:45:00 UTC        -74.005043        40.740770   \n",
       "3          5.3  2009-06-26 08:22:21 UTC        -73.976124        40.790844   \n",
       "4         16.0  2014-08-28 17:47:00 UTC        -73.925023        40.744085   \n",
       "\n",
       "   dropoff_longitude  dropoff_latitude  passenger_count  \n",
       "0         -73.999512         40.723217                1  \n",
       "1         -73.994710         40.750325                1  \n",
       "2         -73.962565         40.772647                1  \n",
       "3         -73.965316         40.803349                3  \n",
       "4         -73.973082         40.761247                5  "
      ]
     },
     "execution_count": 8,
     "metadata": {},
     "output_type": "execute_result"
    }
   ],
   "source": [
    "Train_Data.head()"
   ]
  },
  {
   "cell_type": "code",
   "execution_count": 9,
   "metadata": {},
   "outputs": [
    {
     "data": {
      "text/html": [
       "<div>\n",
       "<style scoped>\n",
       "    .dataframe tbody tr th:only-of-type {\n",
       "        vertical-align: middle;\n",
       "    }\n",
       "\n",
       "    .dataframe tbody tr th {\n",
       "        vertical-align: top;\n",
       "    }\n",
       "\n",
       "    .dataframe thead th {\n",
       "        text-align: right;\n",
       "    }\n",
       "</style>\n",
       "<table border=\"1\" class=\"dataframe\">\n",
       "  <thead>\n",
       "    <tr style=\"text-align: right;\">\n",
       "      <th></th>\n",
       "      <th>Unnamed: 0.2</th>\n",
       "      <th>Unnamed: 0</th>\n",
       "      <th>Unnamed: 0.1</th>\n",
       "      <th>key</th>\n",
       "      <th>pickup_datetime</th>\n",
       "      <th>pickup_longitude</th>\n",
       "      <th>pickup_latitude</th>\n",
       "      <th>dropoff_longitude</th>\n",
       "      <th>dropoff_latitude</th>\n",
       "      <th>passenger_count</th>\n",
       "    </tr>\n",
       "  </thead>\n",
       "  <tbody>\n",
       "    <tr>\n",
       "      <th>0</th>\n",
       "      <td>0</td>\n",
       "      <td>37338</td>\n",
       "      <td>31401407</td>\n",
       "      <td>2011-02-10 19:06:00.000000169</td>\n",
       "      <td>2011-02-10 19:06:00 UTC</td>\n",
       "      <td>-73.951662</td>\n",
       "      <td>40.790710</td>\n",
       "      <td>-73.947570</td>\n",
       "      <td>40.756220</td>\n",
       "      <td>1</td>\n",
       "    </tr>\n",
       "    <tr>\n",
       "      <th>1</th>\n",
       "      <td>1</td>\n",
       "      <td>160901</td>\n",
       "      <td>33158465</td>\n",
       "      <td>2011-06-23 09:24:00.000000157</td>\n",
       "      <td>2011-06-23 09:24:00 UTC</td>\n",
       "      <td>-73.951007</td>\n",
       "      <td>40.771508</td>\n",
       "      <td>-73.974075</td>\n",
       "      <td>40.763553</td>\n",
       "      <td>1</td>\n",
       "    </tr>\n",
       "    <tr>\n",
       "      <th>2</th>\n",
       "      <td>2</td>\n",
       "      <td>40428</td>\n",
       "      <td>10638355</td>\n",
       "      <td>2012-07-14 10:37:00.000000149</td>\n",
       "      <td>2012-07-14 10:37:00 UTC</td>\n",
       "      <td>-73.996473</td>\n",
       "      <td>40.747930</td>\n",
       "      <td>-73.990298</td>\n",
       "      <td>40.756152</td>\n",
       "      <td>6</td>\n",
       "    </tr>\n",
       "    <tr>\n",
       "      <th>3</th>\n",
       "      <td>3</td>\n",
       "      <td>63353</td>\n",
       "      <td>3836845</td>\n",
       "      <td>2014-10-19 22:27:05.0000002</td>\n",
       "      <td>2014-10-19 22:27:05 UTC</td>\n",
       "      <td>-73.997934</td>\n",
       "      <td>40.716890</td>\n",
       "      <td>-73.952617</td>\n",
       "      <td>40.727149</td>\n",
       "      <td>1</td>\n",
       "    </tr>\n",
       "    <tr>\n",
       "      <th>4</th>\n",
       "      <td>4</td>\n",
       "      <td>165491</td>\n",
       "      <td>27114503</td>\n",
       "      <td>2015-05-25 22:54:43.0000001</td>\n",
       "      <td>2015-05-25 22:54:43 UTC</td>\n",
       "      <td>-73.952583</td>\n",
       "      <td>40.714039</td>\n",
       "      <td>-73.906128</td>\n",
       "      <td>40.711281</td>\n",
       "      <td>1</td>\n",
       "    </tr>\n",
       "  </tbody>\n",
       "</table>\n",
       "</div>"
      ],
      "text/plain": [
       "   Unnamed: 0.2  Unnamed: 0  Unnamed: 0.1                            key  \\\n",
       "0             0       37338      31401407  2011-02-10 19:06:00.000000169   \n",
       "1             1      160901      33158465  2011-06-23 09:24:00.000000157   \n",
       "2             2       40428      10638355  2012-07-14 10:37:00.000000149   \n",
       "3             3       63353       3836845    2014-10-19 22:27:05.0000002   \n",
       "4             4      165491      27114503    2015-05-25 22:54:43.0000001   \n",
       "\n",
       "           pickup_datetime  pickup_longitude  pickup_latitude  \\\n",
       "0  2011-02-10 19:06:00 UTC        -73.951662        40.790710   \n",
       "1  2011-06-23 09:24:00 UTC        -73.951007        40.771508   \n",
       "2  2012-07-14 10:37:00 UTC        -73.996473        40.747930   \n",
       "3  2014-10-19 22:27:05 UTC        -73.997934        40.716890   \n",
       "4  2015-05-25 22:54:43 UTC        -73.952583        40.714039   \n",
       "\n",
       "   dropoff_longitude  dropoff_latitude  passenger_count  \n",
       "0         -73.947570         40.756220                1  \n",
       "1         -73.974075         40.763553                1  \n",
       "2         -73.990298         40.756152                6  \n",
       "3         -73.952617         40.727149                1  \n",
       "4         -73.906128         40.711281                1  "
      ]
     },
     "execution_count": 9,
     "metadata": {},
     "output_type": "execute_result"
    }
   ],
   "source": [
    "test.head()"
   ]
  },
  {
   "cell_type": "markdown",
   "metadata": {},
   "source": [
    "#As this is Taxi fare data and we know there are many factors which affect the price of taxi like \n",
    "1. Travelled distance\n",
    "2. Time of Travel\n",
    "3. Demand and Availability of Taxi\n",
    "4. Some special places are more costlier like Airport or other places where there might be toll"
   ]
  },
  {
   "cell_type": "code",
   "execution_count": 10,
   "metadata": {},
   "outputs": [
    {
     "name": "stdout",
     "output_type": "stream",
     "text": [
      "<class 'pandas.core.frame.DataFrame'>\n",
      "RangeIndex: 200000 entries, 0 to 199999\n",
      "Data columns (total 7 columns):\n",
      " #   Column             Non-Null Count   Dtype  \n",
      "---  ------             --------------   -----  \n",
      " 0   fare_amount        200000 non-null  float64\n",
      " 1   pickup_datetime    200000 non-null  object \n",
      " 2   pickup_longitude   200000 non-null  float64\n",
      " 3   pickup_latitude    200000 non-null  float64\n",
      " 4   dropoff_longitude  199999 non-null  float64\n",
      " 5   dropoff_latitude   199999 non-null  float64\n",
      " 6   passenger_count    200000 non-null  int64  \n",
      "dtypes: float64(5), int64(1), object(1)\n",
      "memory usage: 10.7+ MB\n",
      "None\n",
      "<class 'pandas.core.frame.DataFrame'>\n",
      "RangeIndex: 50000 entries, 0 to 49999\n",
      "Data columns (total 10 columns):\n",
      " #   Column             Non-Null Count  Dtype  \n",
      "---  ------             --------------  -----  \n",
      " 0   Unnamed: 0.2       50000 non-null  int64  \n",
      " 1   Unnamed: 0         50000 non-null  int64  \n",
      " 2   Unnamed: 0.1       50000 non-null  int64  \n",
      " 3   key                50000 non-null  object \n",
      " 4   pickup_datetime    50000 non-null  object \n",
      " 5   pickup_longitude   50000 non-null  float64\n",
      " 6   pickup_latitude    50000 non-null  float64\n",
      " 7   dropoff_longitude  50000 non-null  float64\n",
      " 8   dropoff_latitude   50000 non-null  float64\n",
      " 9   passenger_count    50000 non-null  int64  \n",
      "dtypes: float64(4), int64(4), object(2)\n",
      "memory usage: 3.8+ MB\n",
      "None\n"
     ]
    }
   ],
   "source": [
    "print(Train_Data.info())\n",
    "print(test.info())"
   ]
  },
  {
   "cell_type": "markdown",
   "metadata": {},
   "source": [
    "#here we can see there are 8columns in which 6 numerics and 2 are object.\n",
    "#Lets change the type of pickup_datetime from object to DateTime"
   ]
  },
  {
   "cell_type": "code",
   "execution_count": 11,
   "metadata": {},
   "outputs": [],
   "source": [
    "Train_Data[\"pickup_datetime\"] = pd.to_datetime(Train_Data[\"pickup_datetime\"])"
   ]
  },
  {
   "cell_type": "code",
   "execution_count": 12,
   "metadata": {},
   "outputs": [
    {
     "name": "stdout",
     "output_type": "stream",
     "text": [
      "<class 'pandas.core.frame.DataFrame'>\n",
      "RangeIndex: 200000 entries, 0 to 199999\n",
      "Data columns (total 7 columns):\n",
      " #   Column             Non-Null Count   Dtype              \n",
      "---  ------             --------------   -----              \n",
      " 0   fare_amount        200000 non-null  float64            \n",
      " 1   pickup_datetime    200000 non-null  datetime64[ns, UTC]\n",
      " 2   pickup_longitude   200000 non-null  float64            \n",
      " 3   pickup_latitude    200000 non-null  float64            \n",
      " 4   dropoff_longitude  199999 non-null  float64            \n",
      " 5   dropoff_latitude   199999 non-null  float64            \n",
      " 6   passenger_count    200000 non-null  int64              \n",
      "dtypes: datetime64[ns, UTC](1), float64(5), int64(1)\n",
      "memory usage: 10.7 MB\n",
      "None\n"
     ]
    }
   ],
   "source": [
    "print(Train_Data.info())"
   ]
  },
  {
   "cell_type": "code",
   "execution_count": 13,
   "metadata": {},
   "outputs": [
    {
     "data": {
      "text/html": [
       "<div>\n",
       "<style scoped>\n",
       "    .dataframe tbody tr th:only-of-type {\n",
       "        vertical-align: middle;\n",
       "    }\n",
       "\n",
       "    .dataframe tbody tr th {\n",
       "        vertical-align: top;\n",
       "    }\n",
       "\n",
       "    .dataframe thead th {\n",
       "        text-align: right;\n",
       "    }\n",
       "</style>\n",
       "<table border=\"1\" class=\"dataframe\">\n",
       "  <thead>\n",
       "    <tr style=\"text-align: right;\">\n",
       "      <th></th>\n",
       "      <th>fare_amount</th>\n",
       "      <th>pickup_longitude</th>\n",
       "      <th>pickup_latitude</th>\n",
       "      <th>dropoff_longitude</th>\n",
       "      <th>dropoff_latitude</th>\n",
       "      <th>passenger_count</th>\n",
       "    </tr>\n",
       "  </thead>\n",
       "  <tbody>\n",
       "    <tr>\n",
       "      <th>count</th>\n",
       "      <td>200000.000000</td>\n",
       "      <td>200000.000000</td>\n",
       "      <td>200000.000000</td>\n",
       "      <td>199999.000000</td>\n",
       "      <td>199999.000000</td>\n",
       "      <td>200000.000000</td>\n",
       "    </tr>\n",
       "    <tr>\n",
       "      <th>mean</th>\n",
       "      <td>11.359955</td>\n",
       "      <td>-72.527638</td>\n",
       "      <td>39.935885</td>\n",
       "      <td>-72.525292</td>\n",
       "      <td>39.923890</td>\n",
       "      <td>1.684535</td>\n",
       "    </tr>\n",
       "    <tr>\n",
       "      <th>std</th>\n",
       "      <td>9.901776</td>\n",
       "      <td>11.437787</td>\n",
       "      <td>7.720539</td>\n",
       "      <td>13.117408</td>\n",
       "      <td>6.794829</td>\n",
       "      <td>1.385997</td>\n",
       "    </tr>\n",
       "    <tr>\n",
       "      <th>min</th>\n",
       "      <td>-52.000000</td>\n",
       "      <td>-1340.648410</td>\n",
       "      <td>-74.015515</td>\n",
       "      <td>-3356.666300</td>\n",
       "      <td>-881.985513</td>\n",
       "      <td>0.000000</td>\n",
       "    </tr>\n",
       "    <tr>\n",
       "      <th>25%</th>\n",
       "      <td>6.000000</td>\n",
       "      <td>-73.992065</td>\n",
       "      <td>40.734796</td>\n",
       "      <td>-73.991407</td>\n",
       "      <td>40.733823</td>\n",
       "      <td>1.000000</td>\n",
       "    </tr>\n",
       "    <tr>\n",
       "      <th>50%</th>\n",
       "      <td>8.500000</td>\n",
       "      <td>-73.981823</td>\n",
       "      <td>40.752592</td>\n",
       "      <td>-73.980093</td>\n",
       "      <td>40.753042</td>\n",
       "      <td>1.000000</td>\n",
       "    </tr>\n",
       "    <tr>\n",
       "      <th>75%</th>\n",
       "      <td>12.500000</td>\n",
       "      <td>-73.967154</td>\n",
       "      <td>40.767158</td>\n",
       "      <td>-73.963658</td>\n",
       "      <td>40.768001</td>\n",
       "      <td>2.000000</td>\n",
       "    </tr>\n",
       "    <tr>\n",
       "      <th>max</th>\n",
       "      <td>499.000000</td>\n",
       "      <td>57.418457</td>\n",
       "      <td>1644.421482</td>\n",
       "      <td>1153.572603</td>\n",
       "      <td>872.697628</td>\n",
       "      <td>208.000000</td>\n",
       "    </tr>\n",
       "  </tbody>\n",
       "</table>\n",
       "</div>"
      ],
      "text/plain": [
       "         fare_amount  pickup_longitude  pickup_latitude  dropoff_longitude  \\\n",
       "count  200000.000000     200000.000000    200000.000000      199999.000000   \n",
       "mean       11.359955        -72.527638        39.935885         -72.525292   \n",
       "std         9.901776         11.437787         7.720539          13.117408   \n",
       "min       -52.000000      -1340.648410       -74.015515       -3356.666300   \n",
       "25%         6.000000        -73.992065        40.734796         -73.991407   \n",
       "50%         8.500000        -73.981823        40.752592         -73.980093   \n",
       "75%        12.500000        -73.967154        40.767158         -73.963658   \n",
       "max       499.000000         57.418457      1644.421482        1153.572603   \n",
       "\n",
       "       dropoff_latitude  passenger_count  \n",
       "count     199999.000000    200000.000000  \n",
       "mean          39.923890         1.684535  \n",
       "std            6.794829         1.385997  \n",
       "min         -881.985513         0.000000  \n",
       "25%           40.733823         1.000000  \n",
       "50%           40.753042         1.000000  \n",
       "75%           40.768001         2.000000  \n",
       "max          872.697628       208.000000  "
      ]
     },
     "execution_count": 13,
     "metadata": {},
     "output_type": "execute_result"
    }
   ],
   "source": [
    "Train_Data.describe()"
   ]
  },
  {
   "cell_type": "markdown",
   "metadata": {},
   "source": [
    "1.Here first thing which we can see is minimum value of fare is negative which is -52 which is not the valid value, so we need to remove the fare which are negative values.\n",
    "\n",
    "2.Secondly, passenger_count minimum value is 0 and maximum value is 208 which impossible, so we need to remove them as well, for safer side we can think that a taxi can have maximum 7 people."
   ]
  },
  {
   "cell_type": "raw",
   "metadata": {},
   "source": [
    "# Lets check if there is any null value"
   ]
  },
  {
   "cell_type": "code",
   "execution_count": 14,
   "metadata": {},
   "outputs": [
    {
     "data": {
      "text/plain": [
       "fare_amount          0\n",
       "pickup_datetime      0\n",
       "pickup_longitude     0\n",
       "pickup_latitude      0\n",
       "dropoff_longitude    1\n",
       "dropoff_latitude     1\n",
       "passenger_count      0\n",
       "dtype: int64"
      ]
     },
     "execution_count": 14,
     "metadata": {},
     "output_type": "execute_result"
    }
   ],
   "source": [
    "Train_Data.isnull().sum()"
   ]
  },
  {
   "cell_type": "code",
   "execution_count": 15,
   "metadata": {},
   "outputs": [],
   "source": [
    "Train_Data.dropna(axis = 0, inplace= True)"
   ]
  },
  {
   "cell_type": "code",
   "execution_count": 16,
   "metadata": {},
   "outputs": [
    {
     "name": "stdout",
     "output_type": "stream",
     "text": [
      "fare_amount          0\n",
      "pickup_datetime      0\n",
      "pickup_longitude     0\n",
      "pickup_latitude      0\n",
      "dropoff_longitude    0\n",
      "dropoff_latitude     0\n",
      "passenger_count      0\n",
      "dtype: int64\n"
     ]
    }
   ],
   "source": [
    "print(Train_Data.isnull().sum())"
   ]
  },
  {
   "cell_type": "markdown",
   "metadata": {},
   "source": [
    "#Lets see the statistics of our data"
   ]
  },
  {
   "cell_type": "code",
   "execution_count": 17,
   "metadata": {},
   "outputs": [
    {
     "name": "stderr",
     "output_type": "stream",
     "text": [
      "/Library/Frameworks/Python.framework/Versions/3.9/lib/python3.9/site-packages/seaborn/distributions.py:2619: FutureWarning: `distplot` is a deprecated function and will be removed in a future version. Please adapt your code to use either `displot` (a figure-level function with similar flexibility) or `histplot` (an axes-level function for histograms).\n",
      "  warnings.warn(msg, FutureWarning)\n"
     ]
    },
    {
     "data": {
      "text/plain": [
       "<AxesSubplot:xlabel='fare_amount', ylabel='Density'>"
      ]
     },
     "execution_count": 17,
     "metadata": {},
     "output_type": "execute_result"
    },
    {
     "data": {
      "image/png": "[encoded data removed]",
      "text/plain": [
       "<Figure size 432x288 with 1 Axes>"
      ]
     },
     "metadata": {
      "needs_background": "light"
     },
     "output_type": "display_data"
    }
   ],
   "source": [
    "sns.distplot(Train_Data['fare_amount'])"
   ]
  },
  {
   "cell_type": "code",
   "execution_count": 18,
   "metadata": {},
   "outputs": [
    {
     "name": "stderr",
     "output_type": "stream",
     "text": [
      "/Library/Frameworks/Python.framework/Versions/3.9/lib/python3.9/site-packages/seaborn/distributions.py:2619: FutureWarning: `distplot` is a deprecated function and will be removed in a future version. Please adapt your code to use either `displot` (a figure-level function with similar flexibility) or `histplot` (an axes-level function for histograms).\n",
      "  warnings.warn(msg, FutureWarning)\n"
     ]
    },
    {
     "data": {
      "text/plain": [
       "<AxesSubplot:xlabel='pickup_latitude', ylabel='Density'>"
      ]
     },
     "execution_count": 18,
     "metadata": {},
     "output_type": "execute_result"
    },
    {
     "data": {
      "image/png": "[encoded data removed]",
      "text/plain": [
       "<Figure size 432x288 with 1 Axes>"
      ]
     },
     "metadata": {
      "needs_background": "light"
     },
     "output_type": "display_data"
    }
   ],
   "source": [
    "sns.distplot(Train_Data['pickup_latitude'])"
   ]
  },
  {
   "cell_type": "code",
   "execution_count": 19,
   "metadata": {},
   "outputs": [
    {
     "name": "stderr",
     "output_type": "stream",
     "text": [
      "/Library/Frameworks/Python.framework/Versions/3.9/lib/python3.9/site-packages/seaborn/distributions.py:2619: FutureWarning: `distplot` is a deprecated function and will be removed in a future version. Please adapt your code to use either `displot` (a figure-level function with similar flexibility) or `histplot` (an axes-level function for histograms).\n",
      "  warnings.warn(msg, FutureWarning)\n"
     ]
    },
    {
     "data": {
      "text/plain": [
       "<AxesSubplot:xlabel='pickup_longitude', ylabel='Density'>"
      ]
     },
     "execution_count": 19,
     "metadata": {},
     "output_type": "execute_result"
    },
    {
     "data": {
      "image/png": "[encoded data removed]",
      "text/plain": [
       "<Figure size 432x288 with 1 Axes>"
      ]
     },
     "metadata": {
      "needs_background": "light"
     },
     "output_type": "display_data"
    }
   ],
   "source": [
    "sns.distplot(Train_Data['pickup_longitude'])"
   ]
  },
  {
   "cell_type": "code",
   "execution_count": 20,
   "metadata": {},
   "outputs": [
    {
     "name": "stderr",
     "output_type": "stream",
     "text": [
      "/Library/Frameworks/Python.framework/Versions/3.9/lib/python3.9/site-packages/seaborn/distributions.py:2619: FutureWarning: `distplot` is a deprecated function and will be removed in a future version. Please adapt your code to use either `displot` (a figure-level function with similar flexibility) or `histplot` (an axes-level function for histograms).\n",
      "  warnings.warn(msg, FutureWarning)\n"
     ]
    },
    {
     "data": {
      "text/plain": [
       "<AxesSubplot:xlabel='dropoff_longitude', ylabel='Density'>"
      ]
     },
     "execution_count": 20,
     "metadata": {},
     "output_type": "execute_result"
    },
    {
     "data": {
      "image/png": "[encoded data removed]",
      "text/plain": [
       "<Figure size 432x288 with 1 Axes>"
      ]
     },
     "metadata": {
      "needs_background": "light"
     },
     "output_type": "display_data"
    }
   ],
   "source": [
    "sns.distplot(Train_Data['dropoff_longitude'])"
   ]
  },
  {
   "cell_type": "code",
   "execution_count": 21,
   "metadata": {},
   "outputs": [
    {
     "name": "stderr",
     "output_type": "stream",
     "text": [
      "/Library/Frameworks/Python.framework/Versions/3.9/lib/python3.9/site-packages/seaborn/distributions.py:2619: FutureWarning: `distplot` is a deprecated function and will be removed in a future version. Please adapt your code to use either `displot` (a figure-level function with similar flexibility) or `histplot` (an axes-level function for histograms).\n",
      "  warnings.warn(msg, FutureWarning)\n"
     ]
    },
    {
     "data": {
      "text/plain": [
       "<AxesSubplot:xlabel='dropoff_latitude', ylabel='Density'>"
      ]
     },
     "execution_count": 21,
     "metadata": {},
     "output_type": "execute_result"
    },
    {
     "data": {
      "image/png": "[encoded data removed]",
      "text/plain": [
       "<Figure size 432x288 with 1 Axes>"
      ]
     },
     "metadata": {
      "needs_background": "light"
     },
     "output_type": "display_data"
    }
   ],
   "source": [
    "sns.distplot(Train_Data['dropoff_latitude'])"
   ]
  },
  {
   "cell_type": "code",
   "execution_count": 22,
   "metadata": {},
   "outputs": [
    {
     "name": "stdout",
     "output_type": "stream",
     "text": [
      "drop_off latitude min value -881.9855130000001\n",
      "drop_off latitude max value 872.6976279999999\n",
      "drop_off longitude min value -3356.6663\n",
      "drop_off longitude max value 1153.5726029999998\n",
      "pickup latitude min value -74.01551500000001\n",
      "pickup latitude max value 1644.421482\n",
      "pickup longitude min value -1340.64841\n",
      "pickup longitude max value 57.418457\n"
     ]
    }
   ],
   "source": [
    "print(\"drop_off latitude min value\",Train_Data[\"dropoff_latitude\"].min())\n",
    "print(\"drop_off latitude max value\",Train_Data[\"dropoff_latitude\"].max())\n",
    "print(\"drop_off longitude min value\", Train_Data[\"dropoff_longitude\"].min())\n",
    "print(\"drop_off longitude max value\",Train_Data[\"dropoff_longitude\"].max())\n",
    "print(\"pickup latitude min value\",Train_Data[\"pickup_latitude\"].min())\n",
    "print(\"pickup latitude max value\",Train_Data[\"pickup_latitude\"].max())\n",
    "print(\"pickup longitude min value\",Train_Data[\"pickup_longitude\"].min())\n",
    "print(\"pickup longitude max value\",Train_Data[\"pickup_longitude\"].max())"
   ]
  },
  {
   "cell_type": "code",
   "execution_count": 23,
   "metadata": {},
   "outputs": [
    {
     "name": "stdout",
     "output_type": "stream",
     "text": [
      "drop_off latitude min value -74.00110699999998\n",
      "drop_off latitude max value 47.433332\n",
      "drop_off longitude min value -1491.194073\n",
      "drop_off longitude max value 40.796262\n",
      "pickup latitude min value -74.001047\n",
      "pickup latitude max value 42.46842\n",
      "pickup longitude min value -80.734728\n",
      "pickup longitude max value 40.812005\n"
     ]
    }
   ],
   "source": [
    "print(\"drop_off latitude min value\",test[\"dropoff_latitude\"].min())\n",
    "print(\"drop_off latitude max value\",test[\"dropoff_latitude\"].max())\n",
    "print(\"drop_off longitude min value\", test[\"dropoff_longitude\"].min())\n",
    "print(\"drop_off longitude max value\",test[\"dropoff_longitude\"].max())\n",
    "print(\"pickup latitude min value\",test[\"pickup_latitude\"].min())\n",
    "print(\"pickup latitude max value\",test[\"pickup_latitude\"].max())\n",
    "print(\"pickup longitude min value\",test[\"pickup_longitude\"].min())\n",
    "print(\"pickup longitude max value\",test[\"pickup_longitude\"].max())"
   ]
  },
  {
   "cell_type": "code",
   "execution_count": 24,
   "metadata": {},
   "outputs": [],
   "source": [
    "min_longitude=-1491.194073,\n",
    "min_latitude=-74.001047,\n",
    "max_longitude=40.812005, \n",
    "max_latitude=41.709555"
   ]
  },
  {
   "cell_type": "code",
   "execution_count": 25,
   "metadata": {},
   "outputs": [],
   "source": [
    "min_longitude=-1491.194073,\n",
    "min_latitude=-74.001047,\n",
    "max_longitude=40.812005, \n",
    "max_latitude=41.709555"
   ]
  },
  {
   "cell_type": "code",
   "execution_count": 26,
   "metadata": {},
   "outputs": [
    {
     "name": "stdout",
     "output_type": "stream",
     "text": [
      "before droping (199999, 7)\n",
      "after droping (199961, 7)\n"
     ]
    }
   ],
   "source": [
    "tempdf=Train_Data[(Train_Data[\"dropoff_latitude\"]<min_latitude) | \n",
    "                (Train_Data[\"pickup_latitude\"]<min_latitude) |\n",
    "                (Train_Data[\"dropoff_longitude\"]<min_longitude) | \n",
    "                (Train_Data[\"pickup_longitude\"]<min_longitude) |\n",
    "                (Train_Data[\"dropoff_latitude\"]>max_latitude) | \n",
    "                (Train_Data[\"pickup_latitude\"]>max_latitude) | \n",
    "                (Train_Data[\"dropoff_longitude\"]>max_longitude) | \n",
    "                (Train_Data[\"pickup_longitude\"]>max_longitude) ]\n",
    "print(\"before droping\",Train_Data.shape)\n",
    "Train_Data.drop(tempdf.index,inplace=True)\n",
    "print(\"after droping\",Train_Data.shape)"
   ]
  },
  {
   "cell_type": "code",
   "execution_count": 27,
   "metadata": {},
   "outputs": [],
   "source": [
    "import calendar\n",
    "Train_Data['day']=Train_Data['pickup_datetime'].apply(lambda x:x.day)\n",
    "Train_Data['hour']=Train_Data['pickup_datetime'].apply(lambda x:x.hour)\n",
    "Train_Data['month']=Train_Data['pickup_datetime'].apply(lambda x:x.month)\n",
    "Train_Data['year']=Train_Data['pickup_datetime'].apply(lambda x:x.year)\n",
    "Train_Data['weekday']=Train_Data['pickup_datetime'].apply(lambda x: calendar.day_name[x.weekday()])"
   ]
  },
  {
   "cell_type": "code",
   "execution_count": 28,
   "metadata": {},
   "outputs": [],
   "source": [
    "Train_Data.weekday = Train_Data.weekday.map({'Sunday':0,'Monday':1,'Tuesday':2,'Wednesday':3,'Thursday':4,'Friday':5,'Saturday':6})"
   ]
  },
  {
   "cell_type": "code",
   "execution_count": 29,
   "metadata": {},
   "outputs": [],
   "source": [
    "Train_Data.drop(labels = 'pickup_datetime',axis=1,inplace=True)"
   ]
  },
  {
   "cell_type": "code",
   "execution_count": 30,
   "metadata": {},
   "outputs": [
    {
     "name": "stdout",
     "output_type": "stream",
     "text": [
      "<class 'pandas.core.frame.DataFrame'>\n",
      "Int64Index: 199961 entries, 0 to 199999\n",
      "Data columns (total 11 columns):\n",
      " #   Column             Non-Null Count   Dtype  \n",
      "---  ------             --------------   -----  \n",
      " 0   fare_amount        199961 non-null  float64\n",
      " 1   pickup_longitude   199961 non-null  float64\n",
      " 2   pickup_latitude    199961 non-null  float64\n",
      " 3   dropoff_longitude  199961 non-null  float64\n",
      " 4   dropoff_latitude   199961 non-null  float64\n",
      " 5   passenger_count    199961 non-null  int64  \n",
      " 6   day                199961 non-null  int64  \n",
      " 7   hour               199961 non-null  int64  \n",
      " 8   month              199961 non-null  int64  \n",
      " 9   year               199961 non-null  int64  \n",
      " 10  weekday            199961 non-null  int64  \n",
      "dtypes: float64(5), int64(6)\n",
      "memory usage: 18.3 MB\n"
     ]
    }
   ],
   "source": [
    "Train_Data.head(1)\n",
    "Train_Data.info()"
   ]
  },
  {
   "cell_type": "markdown",
   "metadata": {},
   "source": [
    "# Model Building"
   ]
  },
  {
   "cell_type": "code",
   "execution_count": 31,
   "metadata": {},
   "outputs": [],
   "source": [
    "from sklearn.model_selection import train_test_split"
   ]
  },
  {
   "cell_type": "code",
   "execution_count": 32,
   "metadata": {},
   "outputs": [
    {
     "data": {
      "text/html": [
       "<div>\n",
       "<style scoped>\n",
       "    .dataframe tbody tr th:only-of-type {\n",
       "        vertical-align: middle;\n",
       "    }\n",
       "\n",
       "    .dataframe tbody tr th {\n",
       "        vertical-align: top;\n",
       "    }\n",
       "\n",
       "    .dataframe thead th {\n",
       "        text-align: right;\n",
       "    }\n",
       "</style>\n",
       "<table border=\"1\" class=\"dataframe\">\n",
       "  <thead>\n",
       "    <tr style=\"text-align: right;\">\n",
       "      <th></th>\n",
       "      <th>pickup_longitude</th>\n",
       "      <th>pickup_latitude</th>\n",
       "      <th>dropoff_longitude</th>\n",
       "      <th>dropoff_latitude</th>\n",
       "      <th>passenger_count</th>\n",
       "      <th>day</th>\n",
       "      <th>hour</th>\n",
       "      <th>month</th>\n",
       "      <th>year</th>\n",
       "      <th>weekday</th>\n",
       "    </tr>\n",
       "  </thead>\n",
       "  <tbody>\n",
       "    <tr>\n",
       "      <th>0</th>\n",
       "      <td>-73.999817</td>\n",
       "      <td>40.738354</td>\n",
       "      <td>-73.999512</td>\n",
       "      <td>40.723217</td>\n",
       "      <td>1</td>\n",
       "      <td>7</td>\n",
       "      <td>19</td>\n",
       "      <td>5</td>\n",
       "      <td>2015</td>\n",
       "      <td>4</td>\n",
       "    </tr>\n",
       "    <tr>\n",
       "      <th>1</th>\n",
       "      <td>-73.994355</td>\n",
       "      <td>40.728225</td>\n",
       "      <td>-73.994710</td>\n",
       "      <td>40.750325</td>\n",
       "      <td>1</td>\n",
       "      <td>17</td>\n",
       "      <td>20</td>\n",
       "      <td>7</td>\n",
       "      <td>2009</td>\n",
       "      <td>5</td>\n",
       "    </tr>\n",
       "    <tr>\n",
       "      <th>2</th>\n",
       "      <td>-74.005043</td>\n",
       "      <td>40.740770</td>\n",
       "      <td>-73.962565</td>\n",
       "      <td>40.772647</td>\n",
       "      <td>1</td>\n",
       "      <td>24</td>\n",
       "      <td>21</td>\n",
       "      <td>8</td>\n",
       "      <td>2009</td>\n",
       "      <td>1</td>\n",
       "    </tr>\n",
       "    <tr>\n",
       "      <th>3</th>\n",
       "      <td>-73.976124</td>\n",
       "      <td>40.790844</td>\n",
       "      <td>-73.965316</td>\n",
       "      <td>40.803349</td>\n",
       "      <td>3</td>\n",
       "      <td>26</td>\n",
       "      <td>8</td>\n",
       "      <td>6</td>\n",
       "      <td>2009</td>\n",
       "      <td>5</td>\n",
       "    </tr>\n",
       "    <tr>\n",
       "      <th>4</th>\n",
       "      <td>-73.925023</td>\n",
       "      <td>40.744085</td>\n",
       "      <td>-73.973082</td>\n",
       "      <td>40.761247</td>\n",
       "      <td>5</td>\n",
       "      <td>28</td>\n",
       "      <td>17</td>\n",
       "      <td>8</td>\n",
       "      <td>2014</td>\n",
       "      <td>4</td>\n",
       "    </tr>\n",
       "    <tr>\n",
       "      <th>...</th>\n",
       "      <td>...</td>\n",
       "      <td>...</td>\n",
       "      <td>...</td>\n",
       "      <td>...</td>\n",
       "      <td>...</td>\n",
       "      <td>...</td>\n",
       "      <td>...</td>\n",
       "      <td>...</td>\n",
       "      <td>...</td>\n",
       "      <td>...</td>\n",
       "    </tr>\n",
       "    <tr>\n",
       "      <th>199995</th>\n",
       "      <td>-73.987042</td>\n",
       "      <td>40.739367</td>\n",
       "      <td>-73.986525</td>\n",
       "      <td>40.740297</td>\n",
       "      <td>1</td>\n",
       "      <td>28</td>\n",
       "      <td>10</td>\n",
       "      <td>10</td>\n",
       "      <td>2012</td>\n",
       "      <td>0</td>\n",
       "    </tr>\n",
       "    <tr>\n",
       "      <th>199996</th>\n",
       "      <td>-73.984722</td>\n",
       "      <td>40.736837</td>\n",
       "      <td>-74.006672</td>\n",
       "      <td>40.739620</td>\n",
       "      <td>1</td>\n",
       "      <td>14</td>\n",
       "      <td>1</td>\n",
       "      <td>3</td>\n",
       "      <td>2014</td>\n",
       "      <td>5</td>\n",
       "    </tr>\n",
       "    <tr>\n",
       "      <th>199997</th>\n",
       "      <td>-73.986017</td>\n",
       "      <td>40.756487</td>\n",
       "      <td>-73.858957</td>\n",
       "      <td>40.692588</td>\n",
       "      <td>2</td>\n",
       "      <td>29</td>\n",
       "      <td>0</td>\n",
       "      <td>6</td>\n",
       "      <td>2009</td>\n",
       "      <td>1</td>\n",
       "    </tr>\n",
       "    <tr>\n",
       "      <th>199998</th>\n",
       "      <td>-73.997124</td>\n",
       "      <td>40.725452</td>\n",
       "      <td>-73.983215</td>\n",
       "      <td>40.695415</td>\n",
       "      <td>1</td>\n",
       "      <td>20</td>\n",
       "      <td>14</td>\n",
       "      <td>5</td>\n",
       "      <td>2015</td>\n",
       "      <td>3</td>\n",
       "    </tr>\n",
       "    <tr>\n",
       "      <th>199999</th>\n",
       "      <td>-73.984395</td>\n",
       "      <td>40.720077</td>\n",
       "      <td>-73.985508</td>\n",
       "      <td>40.768793</td>\n",
       "      <td>1</td>\n",
       "      <td>15</td>\n",
       "      <td>4</td>\n",
       "      <td>5</td>\n",
       "      <td>2010</td>\n",
       "      <td>6</td>\n",
       "    </tr>\n",
       "  </tbody>\n",
       "</table>\n",
       "<p>199961 rows × 10 columns</p>\n",
       "</div>"
      ],
      "text/plain": [
       "        pickup_longitude  pickup_latitude  dropoff_longitude  \\\n",
       "0             -73.999817        40.738354         -73.999512   \n",
       "1             -73.994355        40.728225         -73.994710   \n",
       "2             -74.005043        40.740770         -73.962565   \n",
       "3             -73.976124        40.790844         -73.965316   \n",
       "4             -73.925023        40.744085         -73.973082   \n",
       "...                  ...              ...                ...   \n",
       "199995        -73.987042        40.739367         -73.986525   \n",
       "199996        -73.984722        40.736837         -74.006672   \n",
       "199997        -73.986017        40.756487         -73.858957   \n",
       "199998        -73.997124        40.725452         -73.983215   \n",
       "199999        -73.984395        40.720077         -73.985508   \n",
       "\n",
       "        dropoff_latitude  passenger_count  day  hour  month  year  weekday  \n",
       "0              40.723217                1    7    19      5  2015        4  \n",
       "1              40.750325                1   17    20      7  2009        5  \n",
       "2              40.772647                1   24    21      8  2009        1  \n",
       "3              40.803349                3   26     8      6  2009        5  \n",
       "4              40.761247                5   28    17      8  2014        4  \n",
       "...                  ...              ...  ...   ...    ...   ...      ...  \n",
       "199995         40.740297                1   28    10     10  2012        0  \n",
       "199996         40.739620                1   14     1      3  2014        5  \n",
       "199997         40.692588                2   29     0      6  2009        1  \n",
       "199998         40.695415                1   20    14      5  2015        3  \n",
       "199999         40.768793                1   15     4      5  2010        6  \n",
       "\n",
       "[199961 rows x 10 columns]"
      ]
     },
     "execution_count": 32,
     "metadata": {},
     "output_type": "execute_result"
    }
   ],
   "source": [
    "x=Train_Data.drop(\"fare_amount\", axis=1)\n",
    "x"
   ]
  },
  {
   "cell_type": "code",
   "execution_count": 33,
   "metadata": {},
   "outputs": [],
   "source": [
    "y=Train_Data[\"fare_amount\"]"
   ]
  },
  {
   "cell_type": "code",
   "execution_count": 34,
   "metadata": {},
   "outputs": [],
   "source": [
    "x_train,x_test,y_train,y_test = train_test_split(x,y,test_size=0.2,random_state=101)"
   ]
  },
  {
   "cell_type": "code",
   "execution_count": 35,
   "metadata": {},
   "outputs": [
    {
     "data": {
      "text/html": [
       "<div>\n",
       "<style scoped>\n",
       "    .dataframe tbody tr th:only-of-type {\n",
       "        vertical-align: middle;\n",
       "    }\n",
       "\n",
       "    .dataframe tbody tr th {\n",
       "        vertical-align: top;\n",
       "    }\n",
       "\n",
       "    .dataframe thead th {\n",
       "        text-align: right;\n",
       "    }\n",
       "</style>\n",
       "<table border=\"1\" class=\"dataframe\">\n",
       "  <thead>\n",
       "    <tr style=\"text-align: right;\">\n",
       "      <th></th>\n",
       "      <th>pickup_longitude</th>\n",
       "      <th>pickup_latitude</th>\n",
       "      <th>dropoff_longitude</th>\n",
       "      <th>dropoff_latitude</th>\n",
       "      <th>passenger_count</th>\n",
       "      <th>day</th>\n",
       "      <th>hour</th>\n",
       "      <th>month</th>\n",
       "      <th>year</th>\n",
       "      <th>weekday</th>\n",
       "    </tr>\n",
       "  </thead>\n",
       "  <tbody>\n",
       "    <tr>\n",
       "      <th>36449</th>\n",
       "      <td>-73.963597</td>\n",
       "      <td>40.761797</td>\n",
       "      <td>-73.970199</td>\n",
       "      <td>40.762533</td>\n",
       "      <td>1</td>\n",
       "      <td>4</td>\n",
       "      <td>22</td>\n",
       "      <td>9</td>\n",
       "      <td>2014</td>\n",
       "      <td>4</td>\n",
       "    </tr>\n",
       "    <tr>\n",
       "      <th>177679</th>\n",
       "      <td>-74.013143</td>\n",
       "      <td>40.705700</td>\n",
       "      <td>-73.867012</td>\n",
       "      <td>40.768862</td>\n",
       "      <td>4</td>\n",
       "      <td>2</td>\n",
       "      <td>17</td>\n",
       "      <td>1</td>\n",
       "      <td>2013</td>\n",
       "      <td>3</td>\n",
       "    </tr>\n",
       "    <tr>\n",
       "      <th>36877</th>\n",
       "      <td>-73.993683</td>\n",
       "      <td>40.702455</td>\n",
       "      <td>-73.917713</td>\n",
       "      <td>40.684747</td>\n",
       "      <td>2</td>\n",
       "      <td>31</td>\n",
       "      <td>3</td>\n",
       "      <td>10</td>\n",
       "      <td>2010</td>\n",
       "      <td>0</td>\n",
       "    </tr>\n",
       "    <tr>\n",
       "      <th>20428</th>\n",
       "      <td>-73.954686</td>\n",
       "      <td>40.780613</td>\n",
       "      <td>-73.971005</td>\n",
       "      <td>40.758253</td>\n",
       "      <td>1</td>\n",
       "      <td>29</td>\n",
       "      <td>10</td>\n",
       "      <td>8</td>\n",
       "      <td>2012</td>\n",
       "      <td>3</td>\n",
       "    </tr>\n",
       "    <tr>\n",
       "      <th>18927</th>\n",
       "      <td>-73.978887</td>\n",
       "      <td>40.777162</td>\n",
       "      <td>-73.993860</td>\n",
       "      <td>40.746392</td>\n",
       "      <td>1</td>\n",
       "      <td>14</td>\n",
       "      <td>16</td>\n",
       "      <td>7</td>\n",
       "      <td>2013</td>\n",
       "      <td>0</td>\n",
       "    </tr>\n",
       "  </tbody>\n",
       "</table>\n",
       "</div>"
      ],
      "text/plain": [
       "        pickup_longitude  pickup_latitude  dropoff_longitude  \\\n",
       "36449         -73.963597        40.761797         -73.970199   \n",
       "177679        -74.013143        40.705700         -73.867012   \n",
       "36877         -73.993683        40.702455         -73.917713   \n",
       "20428         -73.954686        40.780613         -73.971005   \n",
       "18927         -73.978887        40.777162         -73.993860   \n",
       "\n",
       "        dropoff_latitude  passenger_count  day  hour  month  year  weekday  \n",
       "36449          40.762533                1    4    22      9  2014        4  \n",
       "177679         40.768862                4    2    17      1  2013        3  \n",
       "36877          40.684747                2   31     3     10  2010        0  \n",
       "20428          40.758253                1   29    10      8  2012        3  \n",
       "18927          40.746392                1   14    16      7  2013        0  "
      ]
     },
     "execution_count": 35,
     "metadata": {},
     "output_type": "execute_result"
    }
   ],
   "source": [
    "x_train.head()"
   ]
  },
  {
   "cell_type": "code",
   "execution_count": 36,
   "metadata": {},
   "outputs": [
    {
     "data": {
      "text/html": [
       "<div>\n",
       "<style scoped>\n",
       "    .dataframe tbody tr th:only-of-type {\n",
       "        vertical-align: middle;\n",
       "    }\n",
       "\n",
       "    .dataframe tbody tr th {\n",
       "        vertical-align: top;\n",
       "    }\n",
       "\n",
       "    .dataframe thead th {\n",
       "        text-align: right;\n",
       "    }\n",
       "</style>\n",
       "<table border=\"1\" class=\"dataframe\">\n",
       "  <thead>\n",
       "    <tr style=\"text-align: right;\">\n",
       "      <th></th>\n",
       "      <th>pickup_longitude</th>\n",
       "      <th>pickup_latitude</th>\n",
       "      <th>dropoff_longitude</th>\n",
       "      <th>dropoff_latitude</th>\n",
       "      <th>passenger_count</th>\n",
       "      <th>day</th>\n",
       "      <th>hour</th>\n",
       "      <th>month</th>\n",
       "      <th>year</th>\n",
       "      <th>weekday</th>\n",
       "    </tr>\n",
       "  </thead>\n",
       "  <tbody>\n",
       "    <tr>\n",
       "      <th>35707</th>\n",
       "      <td>-73.979422</td>\n",
       "      <td>40.743943</td>\n",
       "      <td>-73.969162</td>\n",
       "      <td>40.758608</td>\n",
       "      <td>1</td>\n",
       "      <td>26</td>\n",
       "      <td>16</td>\n",
       "      <td>6</td>\n",
       "      <td>2012</td>\n",
       "      <td>2</td>\n",
       "    </tr>\n",
       "    <tr>\n",
       "      <th>37333</th>\n",
       "      <td>-74.000873</td>\n",
       "      <td>40.747298</td>\n",
       "      <td>-73.991410</td>\n",
       "      <td>40.764548</td>\n",
       "      <td>2</td>\n",
       "      <td>14</td>\n",
       "      <td>17</td>\n",
       "      <td>4</td>\n",
       "      <td>2011</td>\n",
       "      <td>4</td>\n",
       "    </tr>\n",
       "    <tr>\n",
       "      <th>131999</th>\n",
       "      <td>-74.007640</td>\n",
       "      <td>40.732222</td>\n",
       "      <td>-73.988398</td>\n",
       "      <td>40.748832</td>\n",
       "      <td>5</td>\n",
       "      <td>29</td>\n",
       "      <td>8</td>\n",
       "      <td>11</td>\n",
       "      <td>2010</td>\n",
       "      <td>1</td>\n",
       "    </tr>\n",
       "    <tr>\n",
       "      <th>106818</th>\n",
       "      <td>-73.960133</td>\n",
       "      <td>40.719825</td>\n",
       "      <td>-73.942702</td>\n",
       "      <td>40.717567</td>\n",
       "      <td>4</td>\n",
       "      <td>6</td>\n",
       "      <td>21</td>\n",
       "      <td>9</td>\n",
       "      <td>2013</td>\n",
       "      <td>5</td>\n",
       "    </tr>\n",
       "    <tr>\n",
       "      <th>52881</th>\n",
       "      <td>-73.995711</td>\n",
       "      <td>40.764551</td>\n",
       "      <td>-73.991177</td>\n",
       "      <td>40.750312</td>\n",
       "      <td>2</td>\n",
       "      <td>1</td>\n",
       "      <td>8</td>\n",
       "      <td>5</td>\n",
       "      <td>2009</td>\n",
       "      <td>5</td>\n",
       "    </tr>\n",
       "  </tbody>\n",
       "</table>\n",
       "</div>"
      ],
      "text/plain": [
       "        pickup_longitude  pickup_latitude  dropoff_longitude  \\\n",
       "35707         -73.979422        40.743943         -73.969162   \n",
       "37333         -74.000873        40.747298         -73.991410   \n",
       "131999        -74.007640        40.732222         -73.988398   \n",
       "106818        -73.960133        40.719825         -73.942702   \n",
       "52881         -73.995711        40.764551         -73.991177   \n",
       "\n",
       "        dropoff_latitude  passenger_count  day  hour  month  year  weekday  \n",
       "35707          40.758608                1   26    16      6  2012        2  \n",
       "37333          40.764548                2   14    17      4  2011        4  \n",
       "131999         40.748832                5   29     8     11  2010        1  \n",
       "106818         40.717567                4    6    21      9  2013        5  \n",
       "52881          40.750312                2    1     8      5  2009        5  "
      ]
     },
     "execution_count": 36,
     "metadata": {},
     "output_type": "execute_result"
    }
   ],
   "source": [
    "x_test.head()"
   ]
  },
  {
   "cell_type": "code",
   "execution_count": 37,
   "metadata": {},
   "outputs": [
    {
     "data": {
      "text/plain": [
       "36449      4.5\n",
       "177679    47.3\n",
       "36877     20.9\n",
       "20428      8.9\n",
       "18927     11.0\n",
       "Name: fare_amount, dtype: float64"
      ]
     },
     "execution_count": 37,
     "metadata": {},
     "output_type": "execute_result"
    }
   ],
   "source": [
    "y_train.head()"
   ]
  },
  {
   "cell_type": "code",
   "execution_count": 38,
   "metadata": {},
   "outputs": [
    {
     "data": {
      "text/plain": [
       "35707     7.3\n",
       "37333     6.5\n",
       "131999    8.1\n",
       "106818    8.5\n",
       "52881     9.7\n",
       "Name: fare_amount, dtype: float64"
      ]
     },
     "execution_count": 38,
     "metadata": {},
     "output_type": "execute_result"
    }
   ],
   "source": [
    "y_test.head()"
   ]
  },
  {
   "cell_type": "code",
   "execution_count": 39,
   "metadata": {},
   "outputs": [
    {
     "name": "stdout",
     "output_type": "stream",
     "text": [
      "(159968, 10)\n",
      "(39993, 10)\n",
      "(39993,)\n",
      "(159968,)\n"
     ]
    }
   ],
   "source": [
    "print(x_train.shape)\n",
    "print(x_test.shape)\n",
    "print(y_test.shape)\n",
    "print(y_train.shape)"
   ]
  },
  {
   "cell_type": "code",
   "execution_count": 40,
   "metadata": {},
   "outputs": [
    {
     "name": "stdout",
     "output_type": "stream",
     "text": [
      "                               \u001b[1mStandardardization on Training set                               \n"
     ]
    },
    {
     "data": {
      "text/html": [
       "<div>\n",
       "<style scoped>\n",
       "    .dataframe tbody tr th:only-of-type {\n",
       "        vertical-align: middle;\n",
       "    }\n",
       "\n",
       "    .dataframe tbody tr th {\n",
       "        vertical-align: top;\n",
       "    }\n",
       "\n",
       "    .dataframe thead th {\n",
       "        text-align: right;\n",
       "    }\n",
       "</style>\n",
       "<table border=\"1\" class=\"dataframe\">\n",
       "  <thead>\n",
       "    <tr style=\"text-align: right;\">\n",
       "      <th></th>\n",
       "      <th>pickup_longitude</th>\n",
       "      <th>pickup_latitude</th>\n",
       "      <th>dropoff_longitude</th>\n",
       "      <th>dropoff_latitude</th>\n",
       "      <th>passenger_count</th>\n",
       "      <th>day</th>\n",
       "      <th>hour</th>\n",
       "      <th>month</th>\n",
       "      <th>year</th>\n",
       "      <th>weekday</th>\n",
       "    </tr>\n",
       "  </thead>\n",
       "  <tbody>\n",
       "    <tr>\n",
       "      <th>count</th>\n",
       "      <td>1.599680e+05</td>\n",
       "      <td>1.599680e+05</td>\n",
       "      <td>1.599680e+05</td>\n",
       "      <td>1.599680e+05</td>\n",
       "      <td>1.599680e+05</td>\n",
       "      <td>1.599680e+05</td>\n",
       "      <td>1.599680e+05</td>\n",
       "      <td>1.599680e+05</td>\n",
       "      <td>1.599680e+05</td>\n",
       "      <td>1.599680e+05</td>\n",
       "    </tr>\n",
       "    <tr>\n",
       "      <th>mean</th>\n",
       "      <td>1.378107e-15</td>\n",
       "      <td>-9.429900e-16</td>\n",
       "      <td>-1.112488e-15</td>\n",
       "      <td>9.100320e-16</td>\n",
       "      <td>-2.629534e-17</td>\n",
       "      <td>-1.008284e-17</td>\n",
       "      <td>-5.072513e-17</td>\n",
       "      <td>-3.202524e-17</td>\n",
       "      <td>1.745975e-15</td>\n",
       "      <td>1.328981e-16</td>\n",
       "    </tr>\n",
       "    <tr>\n",
       "      <th>std</th>\n",
       "      <td>1.000003e+00</td>\n",
       "      <td>1.000003e+00</td>\n",
       "      <td>1.000003e+00</td>\n",
       "      <td>1.000003e+00</td>\n",
       "      <td>1.000003e+00</td>\n",
       "      <td>1.000003e+00</td>\n",
       "      <td>1.000003e+00</td>\n",
       "      <td>1.000003e+00</td>\n",
       "      <td>1.000003e+00</td>\n",
       "      <td>1.000003e+00</td>\n",
       "    </tr>\n",
       "    <tr>\n",
       "      <th>min</th>\n",
       "      <td>-6.323477e+01</td>\n",
       "      <td>-1.903719e+01</td>\n",
       "      <td>-6.365562e+01</td>\n",
       "      <td>-1.906287e+01</td>\n",
       "      <td>-1.199469e+00</td>\n",
       "      <td>-1.691372e+00</td>\n",
       "      <td>-2.071492e+00</td>\n",
       "      <td>-1.535698e+00</td>\n",
       "      <td>-1.476886e+00</td>\n",
       "      <td>-1.568505e+00</td>\n",
       "    </tr>\n",
       "    <tr>\n",
       "      <th>25%</th>\n",
       "      <td>-1.314427e-01</td>\n",
       "      <td>1.334139e-01</td>\n",
       "      <td>-1.393505e-01</td>\n",
       "      <td>1.329837e-01</td>\n",
       "      <td>-4.879715e-01</td>\n",
       "      <td>-8.855321e-01</td>\n",
       "      <td>-6.899662e-01</td>\n",
       "      <td>-9.540364e-01</td>\n",
       "      <td>-9.383073e-01</td>\n",
       "      <td>-1.065882e+00</td>\n",
       "    </tr>\n",
       "    <tr>\n",
       "      <th>50%</th>\n",
       "      <td>-1.305124e-01</td>\n",
       "      <td>1.363882e-01</td>\n",
       "      <td>-1.382672e-01</td>\n",
       "      <td>1.361991e-01</td>\n",
       "      <td>-4.879715e-01</td>\n",
       "      <td>3.542808e-02</td>\n",
       "      <td>7.754786e-02</td>\n",
       "      <td>-8.154350e-02</td>\n",
       "      <td>1.388497e-01</td>\n",
       "      <td>-6.063780e-02</td>\n",
       "    </tr>\n",
       "    <tr>\n",
       "      <th>75%</th>\n",
       "      <td>-1.291854e-01</td>\n",
       "      <td>1.388140e-01</td>\n",
       "      <td>-1.367062e-01</td>\n",
       "      <td>1.386936e-01</td>\n",
       "      <td>2.235261e-01</td>\n",
       "      <td>8.412683e-01</td>\n",
       "      <td>8.450619e-01</td>\n",
       "      <td>7.909494e-01</td>\n",
       "      <td>6.774283e-01</td>\n",
       "      <td>9.446068e-01</td>\n",
       "    </tr>\n",
       "    <tr>\n",
       "      <th>max</th>\n",
       "      <td>1.029864e+01</td>\n",
       "      <td>2.389002e-01</td>\n",
       "      <td>1.084275e+01</td>\n",
       "      <td>2.611685e-01</td>\n",
       "      <td>1.467920e+02</td>\n",
       "      <td>1.762228e+00</td>\n",
       "      <td>1.459073e+00</td>\n",
       "      <td>1.663442e+00</td>\n",
       "      <td>1.754585e+00</td>\n",
       "      <td>1.447229e+00</td>\n",
       "    </tr>\n",
       "  </tbody>\n",
       "</table>\n",
       "</div>"
      ],
      "text/plain": [
       "       pickup_longitude  pickup_latitude  dropoff_longitude  dropoff_latitude  \\\n",
       "count      1.599680e+05     1.599680e+05       1.599680e+05      1.599680e+05   \n",
       "mean       1.378107e-15    -9.429900e-16      -1.112488e-15      9.100320e-16   \n",
       "std        1.000003e+00     1.000003e+00       1.000003e+00      1.000003e+00   \n",
       "min       -6.323477e+01    -1.903719e+01      -6.365562e+01     -1.906287e+01   \n",
       "25%       -1.314427e-01     1.334139e-01      -1.393505e-01      1.329837e-01   \n",
       "50%       -1.305124e-01     1.363882e-01      -1.382672e-01      1.361991e-01   \n",
       "75%       -1.291854e-01     1.388140e-01      -1.367062e-01      1.386936e-01   \n",
       "max        1.029864e+01     2.389002e-01       1.084275e+01      2.611685e-01   \n",
       "\n",
       "       passenger_count           day          hour         month  \\\n",
       "count     1.599680e+05  1.599680e+05  1.599680e+05  1.599680e+05   \n",
       "mean     -2.629534e-17 -1.008284e-17 -5.072513e-17 -3.202524e-17   \n",
       "std       1.000003e+00  1.000003e+00  1.000003e+00  1.000003e+00   \n",
       "min      -1.199469e+00 -1.691372e+00 -2.071492e+00 -1.535698e+00   \n",
       "25%      -4.879715e-01 -8.855321e-01 -6.899662e-01 -9.540364e-01   \n",
       "50%      -4.879715e-01  3.542808e-02  7.754786e-02 -8.154350e-02   \n",
       "75%       2.235261e-01  8.412683e-01  8.450619e-01  7.909494e-01   \n",
       "max       1.467920e+02  1.762228e+00  1.459073e+00  1.663442e+00   \n",
       "\n",
       "               year       weekday  \n",
       "count  1.599680e+05  1.599680e+05  \n",
       "mean   1.745975e-15  1.328981e-16  \n",
       "std    1.000003e+00  1.000003e+00  \n",
       "min   -1.476886e+00 -1.568505e+00  \n",
       "25%   -9.383073e-01 -1.065882e+00  \n",
       "50%    1.388497e-01 -6.063780e-02  \n",
       "75%    6.774283e-01  9.446068e-01  \n",
       "max    1.754585e+00  1.447229e+00  "
      ]
     },
     "metadata": {},
     "output_type": "display_data"
    },
    {
     "name": "stdout",
     "output_type": "stream",
     "text": [
      "\n",
      "                                \u001b[1mStandardardization on Testing set                                \n"
     ]
    },
    {
     "data": {
      "text/html": [
       "<div>\n",
       "<style scoped>\n",
       "    .dataframe tbody tr th:only-of-type {\n",
       "        vertical-align: middle;\n",
       "    }\n",
       "\n",
       "    .dataframe tbody tr th {\n",
       "        vertical-align: top;\n",
       "    }\n",
       "\n",
       "    .dataframe thead th {\n",
       "        text-align: right;\n",
       "    }\n",
       "</style>\n",
       "<table border=\"1\" class=\"dataframe\">\n",
       "  <thead>\n",
       "    <tr style=\"text-align: right;\">\n",
       "      <th></th>\n",
       "      <th>pickup_longitude</th>\n",
       "      <th>pickup_latitude</th>\n",
       "      <th>dropoff_longitude</th>\n",
       "      <th>dropoff_latitude</th>\n",
       "      <th>passenger_count</th>\n",
       "      <th>day</th>\n",
       "      <th>hour</th>\n",
       "      <th>month</th>\n",
       "      <th>year</th>\n",
       "      <th>weekday</th>\n",
       "    </tr>\n",
       "  </thead>\n",
       "  <tbody>\n",
       "    <tr>\n",
       "      <th>count</th>\n",
       "      <td>39993.000000</td>\n",
       "      <td>39993.000000</td>\n",
       "      <td>39993.000000</td>\n",
       "      <td>39993.000000</td>\n",
       "      <td>39993.000000</td>\n",
       "      <td>39993.000000</td>\n",
       "      <td>39993.000000</td>\n",
       "      <td>39993.000000</td>\n",
       "      <td>39993.000000</td>\n",
       "      <td>39993.000000</td>\n",
       "    </tr>\n",
       "    <tr>\n",
       "      <th>mean</th>\n",
       "      <td>0.004261</td>\n",
       "      <td>-0.003601</td>\n",
       "      <td>0.002670</td>\n",
       "      <td>-0.002297</td>\n",
       "      <td>-0.004744</td>\n",
       "      <td>0.006537</td>\n",
       "      <td>-0.002518</td>\n",
       "      <td>0.002492</td>\n",
       "      <td>0.000263</td>\n",
       "      <td>0.005745</td>\n",
       "    </tr>\n",
       "    <tr>\n",
       "      <th>std</th>\n",
       "      <td>0.999345</td>\n",
       "      <td>1.010074</td>\n",
       "      <td>0.994823</td>\n",
       "      <td>1.005791</td>\n",
       "      <td>0.928402</td>\n",
       "      <td>1.000456</td>\n",
       "      <td>1.000729</td>\n",
       "      <td>1.001010</td>\n",
       "      <td>0.999286</td>\n",
       "      <td>0.994207</td>\n",
       "    </tr>\n",
       "    <tr>\n",
       "      <th>min</th>\n",
       "      <td>-60.313818</td>\n",
       "      <td>-19.036851</td>\n",
       "      <td>-0.279750</td>\n",
       "      <td>-19.062762</td>\n",
       "      <td>-1.199469</td>\n",
       "      <td>-1.691372</td>\n",
       "      <td>-2.071492</td>\n",
       "      <td>-1.535698</td>\n",
       "      <td>-1.476886</td>\n",
       "      <td>-1.568505</td>\n",
       "    </tr>\n",
       "    <tr>\n",
       "      <th>25%</th>\n",
       "      <td>-0.131438</td>\n",
       "      <td>0.133402</td>\n",
       "      <td>-0.139351</td>\n",
       "      <td>0.132982</td>\n",
       "      <td>-0.487971</td>\n",
       "      <td>-0.885532</td>\n",
       "      <td>-0.689966</td>\n",
       "      <td>-0.954036</td>\n",
       "      <td>-0.938307</td>\n",
       "      <td>-1.065882</td>\n",
       "    </tr>\n",
       "    <tr>\n",
       "      <th>50%</th>\n",
       "      <td>-0.130509</td>\n",
       "      <td>0.136367</td>\n",
       "      <td>-0.138273</td>\n",
       "      <td>0.136185</td>\n",
       "      <td>-0.487971</td>\n",
       "      <td>0.035428</td>\n",
       "      <td>0.077548</td>\n",
       "      <td>-0.081544</td>\n",
       "      <td>0.138850</td>\n",
       "      <td>-0.060638</td>\n",
       "    </tr>\n",
       "    <tr>\n",
       "      <th>75%</th>\n",
       "      <td>-0.129157</td>\n",
       "      <td>0.138832</td>\n",
       "      <td>-0.136668</td>\n",
       "      <td>0.138720</td>\n",
       "      <td>0.223526</td>\n",
       "      <td>0.841268</td>\n",
       "      <td>0.845062</td>\n",
       "      <td>0.790949</td>\n",
       "      <td>0.677428</td>\n",
       "      <td>0.944607</td>\n",
       "    </tr>\n",
       "    <tr>\n",
       "      <th>max</th>\n",
       "      <td>10.296923</td>\n",
       "      <td>0.238900</td>\n",
       "      <td>10.842146</td>\n",
       "      <td>0.238772</td>\n",
       "      <td>3.069516</td>\n",
       "      <td>1.762228</td>\n",
       "      <td>1.459073</td>\n",
       "      <td>1.663442</td>\n",
       "      <td>1.754585</td>\n",
       "      <td>1.447229</td>\n",
       "    </tr>\n",
       "  </tbody>\n",
       "</table>\n",
       "</div>"
      ],
      "text/plain": [
       "       pickup_longitude  pickup_latitude  dropoff_longitude  dropoff_latitude  \\\n",
       "count      39993.000000     39993.000000       39993.000000      39993.000000   \n",
       "mean           0.004261        -0.003601           0.002670         -0.002297   \n",
       "std            0.999345         1.010074           0.994823          1.005791   \n",
       "min          -60.313818       -19.036851          -0.279750        -19.062762   \n",
       "25%           -0.131438         0.133402          -0.139351          0.132982   \n",
       "50%           -0.130509         0.136367          -0.138273          0.136185   \n",
       "75%           -0.129157         0.138832          -0.136668          0.138720   \n",
       "max           10.296923         0.238900          10.842146          0.238772   \n",
       "\n",
       "       passenger_count           day          hour         month  \\\n",
       "count     39993.000000  39993.000000  39993.000000  39993.000000   \n",
       "mean         -0.004744      0.006537     -0.002518      0.002492   \n",
       "std           0.928402      1.000456      1.000729      1.001010   \n",
       "min          -1.199469     -1.691372     -2.071492     -1.535698   \n",
       "25%          -0.487971     -0.885532     -0.689966     -0.954036   \n",
       "50%          -0.487971      0.035428      0.077548     -0.081544   \n",
       "75%           0.223526      0.841268      0.845062      0.790949   \n",
       "max           3.069516      1.762228      1.459073      1.663442   \n",
       "\n",
       "               year       weekday  \n",
       "count  39993.000000  39993.000000  \n",
       "mean       0.000263      0.005745  \n",
       "std        0.999286      0.994207  \n",
       "min       -1.476886     -1.568505  \n",
       "25%       -0.938307     -1.065882  \n",
       "50%        0.138850     -0.060638  \n",
       "75%        0.677428      0.944607  \n",
       "max        1.754585      1.447229  "
      ]
     },
     "metadata": {},
     "output_type": "display_data"
    }
   ],
   "source": [
    "#Feature Scaling (Standardization)\n",
    "from sklearn.preprocessing import StandardScaler\n",
    "std = StandardScaler()\n",
    "\n",
    "print('\\033[1mStandardardization on Training set'.center(100))\n",
    "Train_X_std = std.fit_transform(x_train)\n",
    "Train_X_std = pd.DataFrame(Train_X_std, columns=x.columns)\n",
    "display(Train_X_std.describe())\n",
    "\n",
    "print('\\n','\\033[1mStandardardization on Testing set'.center(100))\n",
    "Test_X_std = std.transform(x_test)\n",
    "Test_X_std = pd.DataFrame(Test_X_std, columns=x.columns)\n",
    "display(Test_X_std.describe())"
   ]
  },
  {
   "cell_type": "markdown",
   "metadata": {},
   "source": [
    "# Linear Regression"
   ]
  },
  {
   "cell_type": "code",
   "execution_count": 41,
   "metadata": {},
   "outputs": [],
   "source": [
    "from sklearn.linear_model import LinearRegression"
   ]
  },
  {
   "cell_type": "code",
   "execution_count": 42,
   "metadata": {},
   "outputs": [],
   "source": [
    "from sklearn.metrics import mean_squared_error"
   ]
  },
  {
   "cell_type": "code",
   "execution_count": 43,
   "metadata": {},
   "outputs": [
    {
     "name": "stdout",
     "output_type": "stream",
     "text": [
      "<<<-------------------------\u001b[1m Evaluating Multiple Linear Regression Model \u001b[0m------------------------->>>\n",
      "\n",
      "The Coeffecient of the Regresion Model was found to be  [ 0.0106464   0.12138561 -0.04030913 -0.25207614  0.08485505  0.04611594\n",
      " -0.21190816  0.35375484  1.22237783 -0.11762366]\n",
      "The Intercept of the Regresion Model was found to be  11.342124799959992\n"
     ]
    }
   ],
   "source": [
    "#Linear Regression\n",
    "\n",
    "MLR = LinearRegression().fit(Train_X_std,y_train)\n",
    "pred1 = MLR.predict(Train_X_std)\n",
    "pred2 = MLR.predict(Test_X_std)\n",
    "\n",
    "print('{}{}\\033[1m Evaluating Multiple Linear Regression Model \\033[0m{}{}\\n'.format('<'*3,'-'*25 ,'-'*25,'>'*3))\n",
    "print('The Coeffecient of the Regresion Model was found to be ',MLR.coef_)\n",
    "print('The Intercept of the Regresion Model was found to be ',MLR.intercept_)\n"
   ]
  },
  {
   "cell_type": "markdown",
   "metadata": {},
   "source": [
    "# Ridge Regression"
   ]
  },
  {
   "cell_type": "code",
   "execution_count": null,
   "metadata": {},
   "outputs": [],
   "source": [
    "<img src=\"https://raw.githubusercontent.com/Masterx-AI/Project_Uber_Fare_Prediction/main/ridge.png\" style=\"width: 500px;float: left;\"/>"
   ]
  },
  {
   "cell_type": "code",
   "execution_count": 44,
   "metadata": {},
   "outputs": [
    {
     "name": "stdout",
     "output_type": "stream",
     "text": [
      "<<<-------------------------\u001b[1m Evaluating Ridge Regression Model \u001b[0m------------------------->>>\n",
      "\n",
      "The Coeffecient of the Regresion Model was found to be  [ 0.0106464   0.12138561 -0.04030913 -0.25207614  0.08485505  0.04611594\n",
      " -0.21190816  0.35375484  1.22237783 -0.11762366]\n",
      "The Intercept of the Regresion Model was found to be  11.342124799959992\n"
     ]
    }
   ],
   "source": [
    "from sklearn.linear_model import Ridge\n",
    "#Creating a Ridge Regression model\n",
    "\n",
    "RLR = Ridge().fit(Train_X_std,y_train)\n",
    "pred1 = RLR.predict(Train_X_std)\n",
    "pred2 = RLR.predict(Test_X_std)\n",
    "\n",
    "print('{}{}\\033[1m Evaluating Ridge Regression Model \\033[0m{}{}\\n'.format('<'*3,'-'*25 ,'-'*25,'>'*3))\n",
    "print('The Coeffecient of the Regresion Model was found to be ',MLR.coef_)\n",
    "print('The Intercept of the Regresion Model was found to be ',MLR.intercept_)\n"
   ]
  },
  {
   "cell_type": "markdown",
   "metadata": {},
   "source": [
    "# Lasso Regression Model"
   ]
  },
  {
   "cell_type": "code",
   "execution_count": null,
   "metadata": {},
   "outputs": [],
   "source": [
    "<img src=\"https://raw.githubusercontent.com/Masterx-AI/Project_Uber_Fare_Prediction/main/lasso.png\" style=\"width: 500px;float: left;\"/>"
   ]
  },
  {
   "cell_type": "code",
   "execution_count": 45,
   "metadata": {},
   "outputs": [
    {
     "name": "stdout",
     "output_type": "stream",
     "text": [
      "<<<-------------------------\u001b[1m Evaluating Lasso Regression Model \u001b[0m------------------------->>>\n",
      "\n",
      "The Coeffecient of the Regresion Model was found to be  [ 0.0106464   0.12138561 -0.04030913 -0.25207614  0.08485505  0.04611594\n",
      " -0.21190816  0.35375484  1.22237783 -0.11762366]\n",
      "The Intercept of the Regresion Model was found to be  11.342124799959992\n"
     ]
    }
   ],
   "source": [
    "#Creating a Ridge Regression model\n",
    "from sklearn.linear_model import Lasso\n",
    "LLR = Lasso().fit(Train_X_std,y_train)\n",
    "pred1 = LLR.predict(Train_X_std)\n",
    "pred2 = LLR.predict(Test_X_std)\n",
    "\n",
    "print('{}{}\\033[1m Evaluating Lasso Regression Model \\033[0m{}{}\\n'.format('<'*3,'-'*25 ,'-'*25,'>'*3))\n",
    "print('The Coeffecient of the Regresion Model was found to be ',MLR.coef_)\n",
    "print('The Intercept of the Regresion Model was found to be ',MLR.intercept_)"
   ]
  },
  {
   "cell_type": "markdown",
   "metadata": {},
   "source": [
    "# Random Forest"
   ]
  },
  {
   "cell_type": "code",
   "execution_count": 46,
   "metadata": {},
   "outputs": [],
   "source": [
    "from sklearn.ensemble import RandomForestRegressor\n",
    "rfrmodel = RandomForestRegressor(n_estimators=100, random_state=101)"
   ]
  },
  {
   "cell_type": "code",
   "execution_count": null,
   "metadata": {},
   "outputs": [],
   "source": [
    "rfrmodel.fit(x_train,y_train)\n",
    "rfrmodel_pred= rfrmodel.predict(x_test)"
   ]
  },
  {
   "cell_type": "code",
   "execution_count": null,
   "metadata": {},
   "outputs": [],
   "source": [
    "rfrmodel_rmse=np.sqrt(mean_squared_error(rfrmodel_pred, y_test))\n",
    "print(\"RMSE value for Random forest regression is \",rfrmodel_rmse)"
   ]
  },
  {
   "cell_type": "code",
   "execution_count": null,
   "metadata": {},
   "outputs": [],
   "source": [
    "rfrmodel_pred.shape"
   ]
  },
  {
   "cell_type": "markdown",
   "metadata": {},
   "source": [
    "# Working on Test Data"
   ]
  },
  {
   "cell_type": "code",
   "execution_count": null,
   "metadata": {},
   "outputs": [],
   "source": [
    "test = pd.read_csv(r'testt.csv')"
   ]
  },
  {
   "cell_type": "code",
   "execution_count": null,
   "metadata": {},
   "outputs": [],
   "source": [
    "test.head()"
   ]
  },
  {
   "cell_type": "code",
   "execution_count": null,
   "metadata": {},
   "outputs": [],
   "source": [
    "test.drop(test[['Unnamed: 0','Unnamed: 0.1','Unnamed: 0.2','key']],axis=1,inplace=True)"
   ]
  },
  {
   "cell_type": "code",
   "execution_count": null,
   "metadata": {},
   "outputs": [],
   "source": [
    "test.isnull().sum()"
   ]
  },
  {
   "cell_type": "code",
   "execution_count": null,
   "metadata": {},
   "outputs": [],
   "source": [
    "test[\"pickup_datetime\"] = pd.to_datetime(test[\"pickup_datetime\"])"
   ]
  },
  {
   "cell_type": "code",
   "execution_count": null,
   "metadata": {},
   "outputs": [],
   "source": [
    "test['day']=test['pickup_datetime'].apply(lambda x:x.day)\n",
    "test['hour']=test['pickup_datetime'].apply(lambda x:x.hour)\n",
    "test['month']=test['pickup_datetime'].apply(lambda x:x.month)\n",
    "test['year']=test['pickup_datetime'].apply(lambda x:x.year)\n",
    "test['weekday']=test['pickup_datetime'].apply(lambda x: calendar.day_name[x.weekday()])"
   ]
  },
  {
   "cell_type": "code",
   "execution_count": null,
   "metadata": {},
   "outputs": [],
   "source": [
    "test.head(5)"
   ]
  },
  {
   "cell_type": "code",
   "execution_count": null,
   "metadata": {},
   "outputs": [],
   "source": [
    "test.drop(['pickup_datetime'], axis = 1, inplace = True)"
   ]
  },
  {
   "cell_type": "code",
   "execution_count": null,
   "metadata": {},
   "outputs": [],
   "source": [
    "test.weekday = test.weekday.map({'Sunday':0,'Monday':1,'Tuesday':2,'Wednesday':3,'Thursday':4,'Friday':5,'Saturday':6})"
   ]
  },
  {
   "cell_type": "code",
   "execution_count": null,
   "metadata": {},
   "outputs": [],
   "source": [
    "rfrmodel_pred= rfrmodel.predict(test)"
   ]
  },
  {
   "cell_type": "code",
   "execution_count": null,
   "metadata": {},
   "outputs": [],
   "source": [
    "df = pd.DataFrame(rfrmodel_pred)\n",
    "df"
   ]
  },
  {
   "cell_type": "code",
   "execution_count": null,
   "metadata": {},
   "outputs": [],
   "source": [
    "df.to_csv('pred.csv')"
   ]
  },
  {
   "cell_type": "code",
   "execution_count": null,
   "metadata": {},
   "outputs": [],
   "source": []
  }
 ],
 "metadata": {
  "kernelspec": {
   "display_name": "Python 3 (ipykernel)",
   "language": "python",
   "name": "python3"
  },
  "language_info": {
   "codemirror_mode": {
    "name": "ipython",
    "version": 3
   },
   "file_extension": ".py",
   "mimetype": "text/x-python",
   "name": "python",
   "nbconvert_exporter": "python",
   "pygments_lexer": "ipython3",
   "version": "3.9.9"
  }
 },
 "nbformat": 4,
 "nbformat_minor": 2
}
